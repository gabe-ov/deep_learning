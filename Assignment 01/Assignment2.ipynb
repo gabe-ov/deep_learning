{
  "cells": [
    {
      "cell_type": "markdown",
      "metadata": {
        "id": "SqD5nXq2xSD7"
      },
      "source": [
        "## **Ex.1 - Loading the dataset**\n",
        "\n",
        "> Indented block\n",
        "\n"
      ]
    },
    {
      "cell_type": "code",
      "execution_count": 141,
      "metadata": {
        "id": "fpdvgRbjQnHA"
      },
      "outputs": [],
      "source": [
        "import pandas as pd\n",
        "import numpy as np\n",
        "import os\n",
        "import matplotlib.pyplot as plt\n",
        "import seaborn as sns"
      ]
    },
    {
      "cell_type": "code",
      "execution_count": 142,
      "metadata": {
        "id": "pGbqLLiFQrPu"
      },
      "outputs": [],
      "source": [
        "# Machine learning\n",
        "from sklearn.metrics import confusion_matrix, f1_score, roc_curve, roc_auc_score\n",
        "from sklearn.ensemble import RandomForestClassifier\n",
        "from sklearn.linear_model import LogisticRegression\n",
        "from sklearn.model_selection import train_test_split, learning_curve\n",
        "from sklearn import model_selection, tree, preprocessing, metrics, linear_model\n",
        "from sklearn.svm import LinearSVC, SVC\n",
        "from sklearn.ensemble import GradientBoostingClassifier, RandomForestClassifier\n",
        "from sklearn.linear_model import LinearRegression, LogisticRegression, SGDClassifier\n",
        "from sklearn.tree import DecisionTreeClassifier\n",
        "from sklearn.model_selection import GridSearchCV\n",
        "from sklearn.cluster import KMeans"
      ]
    },
    {
      "cell_type": "code",
      "execution_count": 143,
      "metadata": {
        "colab": {
          "base_uri": "https://localhost:8080/",
          "height": 206
        },
        "id": "7f-5h4IHxSD7",
        "outputId": "cfbe028d-ef67-449c-a812-4f04719b1748"
      },
      "outputs": [
        {
          "data": {
            "text/html": [
              "<div>\n",
              "<style scoped>\n",
              "    .dataframe tbody tr th:only-of-type {\n",
              "        vertical-align: middle;\n",
              "    }\n",
              "\n",
              "    .dataframe tbody tr th {\n",
              "        vertical-align: top;\n",
              "    }\n",
              "\n",
              "    .dataframe thead th {\n",
              "        text-align: right;\n",
              "    }\n",
              "</style>\n",
              "<table border=\"1\" class=\"dataframe\">\n",
              "  <thead>\n",
              "    <tr style=\"text-align: right;\">\n",
              "      <th></th>\n",
              "      <th>Class label</th>\n",
              "      <th>Alcohol</th>\n",
              "      <th>Malic acid</th>\n",
              "      <th>Ash</th>\n",
              "      <th>Alcalinity of ash</th>\n",
              "      <th>Magnesium</th>\n",
              "      <th>Total phenols</th>\n",
              "      <th>Flavanoids</th>\n",
              "      <th>Nonflavanoid phenols</th>\n",
              "      <th>Proanthocyanins</th>\n",
              "      <th>Color intensity</th>\n",
              "      <th>Hue</th>\n",
              "      <th>OD280/OD315 of diluted wines</th>\n",
              "      <th>Proline</th>\n",
              "    </tr>\n",
              "  </thead>\n",
              "  <tbody>\n",
              "    <tr>\n",
              "      <th>0</th>\n",
              "      <td>1</td>\n",
              "      <td>14.23</td>\n",
              "      <td>1.71</td>\n",
              "      <td>2.43</td>\n",
              "      <td>15.6</td>\n",
              "      <td>127</td>\n",
              "      <td>2.80</td>\n",
              "      <td>3.06</td>\n",
              "      <td>0.28</td>\n",
              "      <td>2.29</td>\n",
              "      <td>5.64</td>\n",
              "      <td>1.04</td>\n",
              "      <td>3.92</td>\n",
              "      <td>1065</td>\n",
              "    </tr>\n",
              "    <tr>\n",
              "      <th>1</th>\n",
              "      <td>1</td>\n",
              "      <td>13.20</td>\n",
              "      <td>1.78</td>\n",
              "      <td>2.14</td>\n",
              "      <td>11.2</td>\n",
              "      <td>100</td>\n",
              "      <td>2.65</td>\n",
              "      <td>2.76</td>\n",
              "      <td>0.26</td>\n",
              "      <td>1.28</td>\n",
              "      <td>4.38</td>\n",
              "      <td>1.05</td>\n",
              "      <td>3.40</td>\n",
              "      <td>1050</td>\n",
              "    </tr>\n",
              "    <tr>\n",
              "      <th>2</th>\n",
              "      <td>1</td>\n",
              "      <td>13.16</td>\n",
              "      <td>2.36</td>\n",
              "      <td>2.67</td>\n",
              "      <td>18.6</td>\n",
              "      <td>101</td>\n",
              "      <td>2.80</td>\n",
              "      <td>3.24</td>\n",
              "      <td>0.30</td>\n",
              "      <td>2.81</td>\n",
              "      <td>5.68</td>\n",
              "      <td>1.03</td>\n",
              "      <td>3.17</td>\n",
              "      <td>1185</td>\n",
              "    </tr>\n",
              "    <tr>\n",
              "      <th>3</th>\n",
              "      <td>1</td>\n",
              "      <td>14.37</td>\n",
              "      <td>1.95</td>\n",
              "      <td>2.50</td>\n",
              "      <td>16.8</td>\n",
              "      <td>113</td>\n",
              "      <td>3.85</td>\n",
              "      <td>3.49</td>\n",
              "      <td>0.24</td>\n",
              "      <td>2.18</td>\n",
              "      <td>7.80</td>\n",
              "      <td>0.86</td>\n",
              "      <td>3.45</td>\n",
              "      <td>1480</td>\n",
              "    </tr>\n",
              "    <tr>\n",
              "      <th>4</th>\n",
              "      <td>1</td>\n",
              "      <td>13.24</td>\n",
              "      <td>2.59</td>\n",
              "      <td>2.87</td>\n",
              "      <td>21.0</td>\n",
              "      <td>118</td>\n",
              "      <td>2.80</td>\n",
              "      <td>2.69</td>\n",
              "      <td>0.39</td>\n",
              "      <td>1.82</td>\n",
              "      <td>4.32</td>\n",
              "      <td>1.04</td>\n",
              "      <td>2.93</td>\n",
              "      <td>735</td>\n",
              "    </tr>\n",
              "  </tbody>\n",
              "</table>\n",
              "</div>"
            ],
            "text/plain": [
              "   Class label  Alcohol  Malic acid   Ash  Alcalinity of ash  Magnesium  \\\n",
              "0            1    14.23        1.71  2.43               15.6        127   \n",
              "1            1    13.20        1.78  2.14               11.2        100   \n",
              "2            1    13.16        2.36  2.67               18.6        101   \n",
              "3            1    14.37        1.95  2.50               16.8        113   \n",
              "4            1    13.24        2.59  2.87               21.0        118   \n",
              "\n",
              "   Total phenols  Flavanoids  Nonflavanoid phenols  Proanthocyanins  \\\n",
              "0           2.80        3.06                  0.28             2.29   \n",
              "1           2.65        2.76                  0.26             1.28   \n",
              "2           2.80        3.24                  0.30             2.81   \n",
              "3           3.85        3.49                  0.24             2.18   \n",
              "4           2.80        2.69                  0.39             1.82   \n",
              "\n",
              "   Color intensity   Hue  OD280/OD315 of diluted wines  Proline  \n",
              "0             5.64  1.04                          3.92     1065  \n",
              "1             4.38  1.05                          3.40     1050  \n",
              "2             5.68  1.03                          3.17     1185  \n",
              "3             7.80  0.86                          3.45     1480  \n",
              "4             4.32  1.04                          2.93      735  "
            ]
          },
          "execution_count": 143,
          "metadata": {},
          "output_type": "execute_result"
        }
      ],
      "source": [
        "import pandas as pd\n",
        "\n",
        "df_wine = pd.read_csv('https://archive.ics.uci.edu/ml/'\n",
        "                      'machine-learning-databases/wine/wine.data',\n",
        "                      header=None)\n",
        "\n",
        "# if the Wine dataset is temporarily unavailable from the\n",
        "# UCI machine learning repository, un-comment the following line\n",
        "# of code to load the dataset from a local path:\n",
        "\n",
        "# df_wine = pd.read_csv('wine.data', header=None)\n",
        "\n",
        "df_wine.columns = ['Class label', 'Alcohol', 'Malic acid', 'Ash',\n",
        "                   'Alcalinity of ash', 'Magnesium', 'Total phenols',\n",
        "                   'Flavanoids', 'Nonflavanoid phenols', 'Proanthocyanins',\n",
        "                   'Color intensity', 'Hue',\n",
        "                   'OD280/OD315 of diluted wines', 'Proline']\n",
        "\n",
        "df_wine.head()"
      ]
    },
    {
      "cell_type": "markdown",
      "metadata": {
        "id": "iI_uWSSJxSD7"
      },
      "source": [
        "<hr>"
      ]
    },
    {
      "cell_type": "markdown",
      "metadata": {
        "id": "tXblgvroxSD8"
      },
      "source": [
        "Splitting the data into 70% training and 30% test subsets."
      ]
    },
    {
      "cell_type": "code",
      "execution_count": 144,
      "metadata": {
        "id": "MmmOK4QLxSD8"
      },
      "outputs": [],
      "source": [
        "from sklearn.model_selection import train_test_split\n",
        "\n",
        "X, y = df_wine.iloc[:, 1:].values, df_wine.iloc[:, 0].values\n",
        "\n",
        "X_train, X_test, y_train, y_test = \\\n",
        "    train_test_split(X, y, test_size=0.3,\n",
        "                     stratify=y,\n",
        "                     random_state=0)"
      ]
    },
    {
      "cell_type": "markdown",
      "metadata": {
        "id": "H74u_bldxSD8"
      },
      "source": [
        "Standardizing the data."
      ]
    },
    {
      "cell_type": "code",
      "execution_count": 145,
      "metadata": {
        "id": "edUSns7nxSD8"
      },
      "outputs": [],
      "source": [
        "from sklearn.preprocessing import StandardScaler\n",
        "\n",
        "sc = StandardScaler()\n",
        "X_train_std = sc.fit_transform(X_train)\n",
        "X_test_std = sc.transform(X_test)"
      ]
    },
    {
      "cell_type": "code",
      "execution_count": 146,
      "metadata": {
        "colab": {
          "base_uri": "https://localhost:8080/"
        },
        "id": "MHgBecyKNOQC",
        "outputId": "99ad407b-b486-43c6-9598-6c9452081aeb"
      },
      "outputs": [
        {
          "data": {
            "text/plain": [
              "array([[ 0.71225893,  2.22048673, -0.13025864, ..., -0.20017028,\n",
              "        -0.82164144, -0.62946362],\n",
              "       [ 0.88229214, -0.70457155,  1.17533605, ...,  1.33982592,\n",
              "         0.54931269,  1.47568796],\n",
              "       [ 0.84585645, -0.73022996,  1.17533605, ...,  1.06806189,\n",
              "         0.1308109 ,  1.62934866],\n",
              "       ...,\n",
              "       [ 1.02803489,  2.29746195, -0.5778911 , ..., -1.69487249,\n",
              "        -1.86068037, -1.04434751],\n",
              "       [-1.30384913, -1.08089484, -0.31677217, ...,  0.16218176,\n",
              "         0.73691694,  0.40313628],\n",
              "       [-0.40510216,  1.29678411,  0.05625489, ...,  1.06806189,\n",
              "         0.73691694, -0.89683324]])"
            ]
          },
          "execution_count": 146,
          "metadata": {},
          "output_type": "execute_result"
        }
      ],
      "source": [
        "X_train_std"
      ]
    },
    {
      "cell_type": "markdown",
      "metadata": {
        "id": "ea4rulLPxSEB"
      },
      "source": [
        "## **Ex.2 - Principal component analysis in scikit-learn**"
      ]
    },
    {
      "cell_type": "markdown",
      "metadata": {
        "id": "Z8n_rjAQ1N3k"
      },
      "source": [
        "### Part 1 - *Perform PCA and present the explained variance ratio* (check https://scikit-learn.org/stable/modules/generated/sklearn.decomposition.PCA.html). Perform the transformation on test data and plot the first two principal components."
      ]
    },
    {
      "cell_type": "code",
      "execution_count": 160,
      "metadata": {
        "colab": {
          "base_uri": "https://localhost:8080/",
          "height": 484
        },
        "id": "quKTrTSbjEtO",
        "outputId": "c81c5d2e-a0bf-453b-eef2-31105eb56de4"
      },
      "outputs": [
        {
          "name": "stdout",
          "output_type": "stream",
          "text": [
            "Razão de Variância Explicada:\n",
            " [0.36951469 0.18434927]\n"
          ]
        },
        {
          "data": {
            "image/png": "[encoded data removed]",
            "text/plain": [
              "<Figure size 640x480 with 1 Axes>"
            ]
          },
          "metadata": {},
          "output_type": "display_data"
        }
      ],
      "source": [
        "from sklearn.decomposition import PCA\n",
        "import matplotlib.pyplot as plt\n",
        "pca = PCA(n_components=2)\n",
        "v = pca.fit_transform(X_train_std)\n",
        "explained_variance = pca.explained_variance_ratio_\n",
        "print(\"Razão de Variância Explicada:\\n\", explained_variance)\n",
        "X_train_pca = pca.transform(X_train_std)\n",
        "X_test_pca = pca.transform(X_test_std)\n",
        "plt.scatter(X_test_pca[y_test == 1, 0], X_test_pca[y_test == 1, 1], label='Class 1', marker='o')\n",
        "plt.scatter(X_test_pca[y_test == 2, 0], X_test_pca[y_test == 2, 1], label='Class 2', marker='s')\n",
        "plt.scatter(X_test_pca[y_test == 3, 0], X_test_pca[y_test == 3, 1], label='Class 3', marker='^')\n",
        "plt.xlabel('Principal Component 1')\n",
        "plt.ylabel('Principal Component 2')\n",
        "plt.legend()\n",
        "plt.show()\n"
      ]
    },
    {
      "cell_type": "code",
      "execution_count": 161,
      "metadata": {},
      "outputs": [
        {
          "name": "stdout",
          "output_type": "stream",
          "text": [
            "Razão de Variância Explicada:\n",
            " [0.36951469 0.18434927]\n"
          ]
        },
        {
          "data": {
            "image/png": "[encoded data removed]",
            "text/plain": [
              "<Figure size 640x480 with 1 Axes>"
            ]
          },
          "metadata": {},
          "output_type": "display_data"
        },
        {
          "data": {
            "text/plain": [
              "(54, 2)"
            ]
          },
          "execution_count": 161,
          "metadata": {},
          "output_type": "execute_result"
        }
      ],
      "source": [
        "from sklearn.decomposition import PCA\n",
        "import matplotlib.pyplot as plt\n",
        "v = pca.fit_transform(X_train_std)\n",
        "explained_variance = pca.explained_variance_ratio_\n",
        "print(\"Razão de Variância Explicada:\\n\", explained_variance)\n",
        "plt.scatter(X_train_pca[y_train == 1, 0], X_train_pca[y_train == 1, 1], label='Class 1', marker='o')\n",
        "plt.scatter(X_train_pca[y_train == 2, 0], X_train_pca[y_train == 2, 1], label='Class 2', marker='s')\n",
        "plt.scatter(X_train_pca[y_train == 3, 0], X_train_pca[y_train == 3, 1], label='Class 3', marker='^')\n",
        "plt.xlabel('Principal Component 1')\n",
        "plt.ylabel('Principal Component 2')\n",
        "plt.legend()\n",
        "plt.show()\n",
        "\n",
        "X_test_pca.shape"
      ]
    },
    {
      "cell_type": "code",
      "execution_count": 162,
      "metadata": {
        "colab": {
          "base_uri": "https://localhost:8080/"
        },
        "id": "uPcbqczGFUV3",
        "outputId": "d2b5feef-8564-4e75-cca8-724549f78b0b"
      },
      "outputs": [
        {
          "data": {
            "text/plain": [
              "array([[ 2.38299011,  0.45458499],\n",
              "       [-1.96578183,  1.65376939],\n",
              "       [-2.53907598,  1.02909066],\n",
              "       [-1.43010776,  0.6024011 ],\n",
              "       [ 3.14147227,  0.66214979],\n",
              "       [ 0.50253552, -2.08907131],\n",
              "       [ 0.04867722, -2.27536044],\n",
              "       [ 2.47888989, -0.08603318],\n",
              "       [ 2.01900259, -1.3538719 ],\n",
              "       [ 0.75156583, -2.55367947],\n",
              "       [ 0.72268915, -1.18404391],\n",
              "       [-3.00366211,  0.94626934],\n",
              "       [ 2.57518878, -1.0697549 ],\n",
              "       [ 3.73151104,  1.01968876],\n",
              "       [-1.12276518,  0.13877   ],\n",
              "       [ 2.85996853,  2.28819559],\n",
              "       [-0.74717125, -3.21746061],\n",
              "       [-1.58427878,  0.16048055],\n",
              "       [ 3.38887101,  2.11550689],\n",
              "       [ 3.15405473,  0.54233966],\n",
              "       [-1.28036506, -1.72926871],\n",
              "       [-1.71438911,  0.71745249],\n",
              "       [-1.55040291, -1.7580591 ],\n",
              "       [ 1.10984489, -1.20480693],\n",
              "       [-0.69108418, -1.71385374],\n",
              "       [-2.086036  , -1.68453671],\n",
              "       [ 2.90393456,  1.95258805],\n",
              "       [-2.07635784,  1.47183304],\n",
              "       [-1.74756185, -1.25842546],\n",
              "       [ 2.59424456, -0.1056037 ],\n",
              "       [-2.50372355,  0.70412212],\n",
              "       [-2.19448402,  2.18657552],\n",
              "       [ 3.91634534,  0.16136475],\n",
              "       [-1.11739618,  0.51921086],\n",
              "       [-0.89996804, -2.04759575],\n",
              "       [-1.71469178,  0.61392169],\n",
              "       [-2.48581303,  0.76839561],\n",
              "       [-0.76080562, -1.67615627],\n",
              "       [ 2.9265371 ,  0.18854741],\n",
              "       [ 2.94423716,  1.34812388],\n",
              "       [-2.38993219,  1.0848074 ],\n",
              "       [ 2.63885049,  0.75274937],\n",
              "       [ 2.51009031,  2.25237953],\n",
              "       [ 3.65248086,  1.74839925],\n",
              "       [-2.65169609,  1.01997476],\n",
              "       [ 0.52544559, -2.13528249],\n",
              "       [ 2.70197573,  0.56476307],\n",
              "       [ 3.18414708,  2.58094695],\n",
              "       [ 1.12517041, -1.85054449],\n",
              "       [ 2.92366519,  0.41699915],\n",
              "       [-1.96122314, -1.28613661],\n",
              "       [ 0.54473673, -1.07897226],\n",
              "       [-0.77030308, -1.93386815],\n",
              "       [-1.16670455,  0.00489815],\n",
              "       [-1.36475309, -2.13572269],\n",
              "       [ 0.43563732, -2.56929607],\n",
              "       [ 2.96191745,  1.91091009],\n",
              "       [ 2.83609557,  0.65386032],\n",
              "       [ 1.90402089, -0.35296542],\n",
              "       [-2.4858391 , -0.21308835],\n",
              "       [-2.16575568,  1.1468486 ],\n",
              "       [ 0.00669776, -0.94337624],\n",
              "       [ 1.06560181,  3.31221025],\n",
              "       [ 2.13117911,  1.90551304],\n",
              "       [ 1.53543483, -1.50854979],\n",
              "       [-2.66783112,  1.75933599],\n",
              "       [ 0.57279998, -2.7511383 ],\n",
              "       [-0.70710916, -2.43798549],\n",
              "       [-0.99606577, -1.4772411 ],\n",
              "       [-2.67324153,  1.35779609],\n",
              "       [-2.36367378,  1.66537927],\n",
              "       [-0.39171875,  0.13747499],\n",
              "       [-2.98908845,  2.16983165],\n",
              "       [-1.91822539,  1.60141809],\n",
              "       [ 2.3114458 ,  0.207123  ],\n",
              "       [-1.06050503,  0.6004608 ],\n",
              "       [-2.74858609, -0.29016054],\n",
              "       [ 2.26650077,  2.14491758],\n",
              "       [-1.15517469, -0.50262909],\n",
              "       [ 0.16602503, -2.26850051],\n",
              "       [ 1.35589389,  0.33353007],\n",
              "       [-3.31185057,  1.39240115],\n",
              "       [-0.33245686, -2.15639865],\n",
              "       [-2.23205085,  0.52868143],\n",
              "       [ 0.18583758, -1.44446967],\n",
              "       [ 0.84560856,  0.17151684],\n",
              "       [ 2.69500472,  2.74522492],\n",
              "       [ 0.44645674, -0.62393943],\n",
              "       [-1.88961007, -0.04400723],\n",
              "       [-3.08131761,  1.59724429],\n",
              "       [-3.45716348,  1.21428442],\n",
              "       [ 3.87665629,  0.46446004],\n",
              "       [ 1.575516  , -1.82299839],\n",
              "       [-3.43344371,  1.6116814 ],\n",
              "       [-4.20642597,  2.20145366],\n",
              "       [-0.14042971, -2.36871639],\n",
              "       [ 1.82731521, -1.39485103],\n",
              "       [ 2.20564744,  1.28462066],\n",
              "       [ 1.64999054,  2.33211134],\n",
              "       [-1.4611033 , -0.46480324],\n",
              "       [-0.60047516,  0.00920072],\n",
              "       [-3.08276231,  0.28287148],\n",
              "       [ 0.45035749, -2.20263755],\n",
              "       [ 0.90806897, -2.0881686 ],\n",
              "       [ 3.24973637, -0.18273485],\n",
              "       [-3.07882055,  0.69622621],\n",
              "       [ 2.54277306,  1.88571652],\n",
              "       [-2.84838157,  0.63274325],\n",
              "       [-0.88997271, -0.67927226],\n",
              "       [ 0.32368249, -2.07006175],\n",
              "       [ 0.32007527, -2.88708519],\n",
              "       [ 0.44889188, -2.14872532],\n",
              "       [-2.46582558,  1.0745577 ],\n",
              "       [ 2.81678113,  0.56344444],\n",
              "       [-2.16983025,  0.16644199],\n",
              "       [-2.66728229,  1.38137702],\n",
              "       [-3.53223924,  2.57906029],\n",
              "       [-1.96637688,  1.18319185],\n",
              "       [ 1.68741216, -1.35075321],\n",
              "       [ 0.43521077, -2.40355817],\n",
              "       [ 2.59045115,  1.63852921],\n",
              "       [ 4.35308397,  0.66536041],\n",
              "       [-1.84315373, -1.50688415],\n",
              "       [-0.40860955, -1.29720607]])"
            ]
          },
          "execution_count": 162,
          "metadata": {},
          "output_type": "execute_result"
        }
      ],
      "source": [
        "X_train_pca"
      ]
    },
    {
      "cell_type": "markdown",
      "metadata": {
        "id": "eolanmDoxSED"
      },
      "source": [
        "### Part 2 - *Training logistic regression classifier using the first 2 principal components*. Using a cross-validation procedure (check https://scikit-learn.org/stable/modules/cross_validation.html), select the best C parameter for the logistic regression with the first two principal components. Repeat the same procedure for the dataset with all the original features. Compare the results in terms of accuracy and confusion matrix. Present the conclusions."
      ]
    },
    {
      "cell_type": "code",
      "execution_count": 163,
      "metadata": {
        "id": "IECx5do-rT2t"
      },
      "outputs": [],
      "source": [
        "def accuracy_function(algoritmo, X_train, y_train, X_test, y_test, vc, train_sizes = np.linspace(0.1, 1.0, 20)):\n",
        "    modelo = algoritmo.fit(X_train, y_train)\n",
        "    acuracia_modelo = round(modelo.score(X_train, y_train) * 100, 2)\n",
        "\n",
        "    p = modelo.predict(X_test)\n",
        "    comparacao = (p == y_test)\n",
        "    acuracia_teste = (comparacao.sum() / len(comparacao)) * 100\n",
        "\n",
        "    train_pred = model_selection.cross_val_predict(algoritmo, X_train, y_train, cv = vc, n_jobs = -1)\n",
        "    acuracia_vc = round(metrics.accuracy_score(y_train, train_pred) * 100, 2)\n",
        "\n",
        "    #f1_train = f1_score(y_train, train_pred)*100\n",
        "    #f1_test = f1_score(y_test, p)*100\n",
        "\n",
        "    return acuracia_modelo, acuracia_teste, acuracia_vc #, f1_train, f1_test"
      ]
    },
    {
      "cell_type": "code",
      "execution_count": 164,
      "metadata": {
        "id": "bFTlHb4zM3NQ"
      },
      "outputs": [],
      "source": [
        "def plot_graficos(modelo, X_train, y_train, X_test, y_test, vc, train_sizes = np.linspace(0.1, 1.0, 20)):\n",
        "    print(f\"Modelo: {str(modelo)}\")\n",
        "\n",
        "    p = modelo.predict(X_test)\n",
        "\n",
        "    y_pred_train = modelo.predict(X_train)\n",
        "    cm_train = confusion_matrix(y_train, y_pred_train)\n",
        "\n",
        "    cm_test = confusion_matrix(y_test, p)\n",
        "\n",
        "    plt.figure(figsize=(6, 4))\n",
        "    sns.heatmap(cm_train, annot=True, fmt='d', cmap='Blues')\n",
        "    plt.title('Matriz de Confusão - Treinamento')\n",
        "    plt.xlabel('Predito')\n",
        "    plt.ylabel('Real')\n",
        "    plt.show()\n",
        "\n",
        "    plt.figure(figsize=(6, 4))\n",
        "    sns.heatmap(cm_test, annot=True, fmt='d', cmap='Blues')\n",
        "    plt.title('Matriz de Confusão - Teste')\n",
        "    plt.xlabel('Predito')\n",
        "    plt.ylabel('Real')\n",
        "    plt.show()"
      ]
    },
    {
      "cell_type": "code",
      "execution_count": 165,
      "metadata": {},
      "outputs": [
        {
          "name": "stdout",
          "output_type": "stream",
          "text": [
            "Valor do c: 0.001\n",
            "Modelo: LogisticRegression(C=0.001, solver='liblinear')\n",
            "Acurácia do treino: 93.55 %\n",
            "Acurácia do teste: 92.5925925925926 %\n",
            "Acurácia Validação Cruzada: 92.74 %\n",
            "\n",
            "Valor do c: 0.01\n",
            "Modelo: LogisticRegression(C=0.01, solver='liblinear')\n",
            "Acurácia do treino: 94.35 %\n",
            "Acurácia do teste: 98.14814814814815 %\n",
            "Acurácia Validação Cruzada: 94.35 %\n",
            "\n",
            "Valor do c: 0.1\n",
            "Modelo: LogisticRegression(C=0.1, solver='liblinear')\n",
            "Acurácia do treino: 95.97 %\n",
            "Acurácia do teste: 94.44444444444444 %\n",
            "Acurácia Validação Cruzada: 95.97 %\n",
            "\n",
            "Valor do c: 1\n",
            "Modelo: LogisticRegression(C=1, solver='liblinear')\n",
            "Acurácia do treino: 97.58 %\n",
            "Acurácia do teste: 92.5925925925926 %\n",
            "Acurácia Validação Cruzada: 97.58 %\n",
            "\n",
            "Valor do c: 10\n",
            "Modelo: LogisticRegression(C=10, solver='liblinear')\n",
            "Acurácia do treino: 97.58 %\n",
            "Acurácia do teste: 92.5925925925926 %\n",
            "Acurácia Validação Cruzada: 97.58 %\n",
            "\n",
            "Valor do c: 100\n",
            "Modelo: LogisticRegression(C=100, solver='liblinear')\n",
            "Acurácia do treino: 97.58 %\n",
            "Acurácia do teste: 92.5925925925926 %\n",
            "Acurácia Validação Cruzada: 97.58 %\n",
            "\n"
          ]
        }
      ],
      "source": [
        "c_values = [0.001, 0.01, 0.1, 1, 10, 100]\n",
        "\n",
        "for c in c_values:\n",
        "    print(f\"Valor do c: {c}\")\n",
        "    modelo = LogisticRegression(C=c, solver='liblinear', multi_class='auto')\n",
        "    acc_train_log, acc_test_log, acc_vc_log = accuracy_function(modelo, X_train_pca, y_train, X_test_pca, y_test, 5)\n",
        "    print(f\"Modelo: {str(modelo)}\")\n",
        "    print(f\"Acurácia do treino: {acc_train_log} %\")\n",
        "    print(f\"Acurácia do teste: {acc_test_log} %\")\n",
        "    print(f\"Acurácia Validação Cruzada: {acc_vc_log} %\")\n",
        "    print()"
      ]
    },
    {
      "cell_type": "code",
      "execution_count": 166,
      "metadata": {},
      "outputs": [
        {
          "name": "stdout",
          "output_type": "stream",
          "text": [
            "Valor do c: 0.001\n",
            "Modelo: LogisticRegression(C=0.001, solver='liblinear')\n",
            "Acurácia do treino: 93.55 %\n",
            "Acurácia do teste: 92.5925925925926 %\n",
            "Acurácia Validação Cruzada: 92.74 %\n",
            "\n",
            "Valor do c: 0.01\n",
            "Modelo: LogisticRegression(C=0.01, solver='liblinear')\n",
            "Acurácia do treino: 94.35 %\n",
            "Acurácia do teste: 98.14814814814815 %\n",
            "Acurácia Validação Cruzada: 94.35 %\n",
            "\n",
            "Valor do c: 0.1\n",
            "Modelo: LogisticRegression(C=0.1, solver='liblinear')\n",
            "Acurácia do treino: 95.97 %\n",
            "Acurácia do teste: 94.44444444444444 %\n",
            "Acurácia Validação Cruzada: 95.97 %\n",
            "\n",
            "Valor do c: 1\n",
            "Modelo: LogisticRegression(C=1, solver='liblinear')\n",
            "Acurácia do treino: 97.58 %\n",
            "Acurácia do teste: 92.5925925925926 %\n",
            "Acurácia Validação Cruzada: 97.58 %\n",
            "\n",
            "Valor do c: 10\n",
            "Modelo: LogisticRegression(C=10, solver='liblinear')\n",
            "Acurácia do treino: 97.58 %\n",
            "Acurácia do teste: 92.5925925925926 %\n",
            "Acurácia Validação Cruzada: 97.58 %\n",
            "\n",
            "Valor do c: 100\n",
            "Modelo: LogisticRegression(C=100, solver='liblinear')\n",
            "Acurácia do treino: 97.58 %\n",
            "Acurácia do teste: 92.5925925925926 %\n",
            "Acurácia Validação Cruzada: 97.58 %\n",
            "\n"
          ]
        }
      ],
      "source": [
        "c_values = [0.001, 0.01, 0.1, 1, 10, 100]\n",
        "\n",
        "for c in c_values:\n",
        "    print(f\"Valor do c: {c}\")\n",
        "    modelo = LogisticRegression(C=c, solver='liblinear', multi_class='auto')\n",
        "    acc_train_log, acc_test_log, acc_vc_log = accuracy_function(modelo, X_train_pca, y_train, X_test_pca, y_test, 5)\n",
        "    print(f\"Modelo: {str(modelo)}\")\n",
        "    print(f\"Acurácia do treino: {acc_train_log} %\")\n",
        "    print(f\"Acurácia do teste: {acc_test_log} %\")\n",
        "    print(f\"Acurácia Validação Cruzada: {acc_vc_log} %\")\n",
        "    print()"
      ]
    },
    {
      "cell_type": "code",
      "execution_count": 167,
      "metadata": {
        "id": "qhHMKdikOIcJ"
      },
      "outputs": [],
      "source": [
        "modelo_pca = LogisticRegression(C=100, solver='liblinear', multi_class='auto')"
      ]
    },
    {
      "cell_type": "code",
      "execution_count": 168,
      "metadata": {},
      "outputs": [],
      "source": [
        "modelo_all = LogisticRegression(C=100, solver='liblinear', multi_class='auto')"
      ]
    },
    {
      "cell_type": "code",
      "execution_count": 169,
      "metadata": {
        "id": "tX6XOpl0Swna"
      },
      "outputs": [
        {
          "name": "stdout",
          "output_type": "stream",
          "text": [
            "Modelo: LogisticRegression(C=100, solver='liblinear')\n",
            "Acurácia do treino: 97.58 %\n",
            "Acurácia do teste: 92.5925925925926 %\n",
            "Acurácia Validação Cruzada: 97.58 %\n"
          ]
        }
      ],
      "source": [
        "acc_train_log, acc_test_log, acc_vc_log = accuracy_function(modelo_pca, X_train_pca, y_train, X_test_pca, y_test, 4)\n",
        "print(f\"Modelo: {str(modelo_pca)}\")\n",
        "print(f\"Acurácia do treino: {acc_train_log} %\")\n",
        "print(f\"Acurácia do teste: {acc_test_log} %\")\n",
        "print(f\"Acurácia Validação Cruzada: {acc_vc_log} %\")"
      ]
    },
    {
      "cell_type": "code",
      "execution_count": 170,
      "metadata": {},
      "outputs": [
        {
          "name": "stdout",
          "output_type": "stream",
          "text": [
            "Modelo: LogisticRegression(C=100, solver='liblinear')\n",
            "Acurácia do treino: 100.0 %\n",
            "Acurácia do teste: 100.0 %\n",
            "Acurácia Validação Cruzada: 96.77 %\n"
          ]
        }
      ],
      "source": [
        "acc_train_log, acc_test_log, acc_vc_log = accuracy_function(modelo_all, X_train_std, y_train, X_test_std, y_test, 4)\n",
        "print(f\"Modelo: {str(modelo_pca)}\")\n",
        "print(f\"Acurácia do treino: {acc_train_log} %\")\n",
        "print(f\"Acurácia do teste: {acc_test_log} %\")\n",
        "print(f\"Acurácia Validação Cruzada: {acc_vc_log} %\")"
      ]
    },
    {
      "cell_type": "code",
      "execution_count": 171,
      "metadata": {},
      "outputs": [
        {
          "name": "stdout",
          "output_type": "stream",
          "text": [
            "Modelo: LogisticRegression(C=100, solver='liblinear')\n"
          ]
        },
        {
          "data": {
            "image/png": "[encoded data removed]",
            "text/plain": [
              "<Figure size 600x400 with 2 Axes>"
            ]
          },
          "metadata": {},
          "output_type": "display_data"
        },
        {
          "data": {
            "image/png": "[encoded data removed]",
            "text/plain": [
              "<Figure size 600x400 with 2 Axes>"
            ]
          },
          "metadata": {},
          "output_type": "display_data"
        }
      ],
      "source": [
        "plot_graficos(modelo_pca, X_train_pca, y_train, X_test_pca, y_test, 4)"
      ]
    },
    {
      "cell_type": "code",
      "execution_count": 172,
      "metadata": {},
      "outputs": [
        {
          "name": "stdout",
          "output_type": "stream",
          "text": [
            "Modelo: LogisticRegression(C=100, solver='liblinear')\n"
          ]
        },
        {
          "data": {
            "image/png": "[encoded data removed]",
            "text/plain": [
              "<Figure size 600x400 with 2 Axes>"
            ]
          },
          "metadata": {},
          "output_type": "display_data"
        },
        {
          "data": {
            "image/png": "[encoded data removed]",
            "text/plain": [
              "<Figure size 600x400 with 2 Axes>"
            ]
          },
          "metadata": {},
          "output_type": "display_data"
        }
      ],
      "source": [
        "plot_graficos(modelo_all, X_train_std, y_train, X_test_std, y_test, 4)"
      ]
    }
  ],
  "metadata": {
    "anaconda-cloud": {},
    "colab": {
      "provenance": []
    },
    "kernelspec": {
      "display_name": "Python 3",
      "language": "python",
      "name": "python3"
    },
    "language_info": {
      "codemirror_mode": {
        "name": "ipython",
        "version": 3
      },
      "file_extension": ".py",
      "mimetype": "text/x-python",
      "name": "python",
      "nbconvert_exporter": "python",
      "pygments_lexer": "ipython3",
      "version": "3.10.13"
    },
    "toc": {
      "nav_menu": {},
      "number_sections": true,
      "sideBar": true,
      "skip_h1_title": false,
      "title_cell": "Table of Contents",
      "title_sidebar": "Contents",
      "toc_cell": false,
      "toc_position": {},
      "toc_section_display": true,
      "toc_window_display": false
    }
  },
  "nbformat": 4,
  "nbformat_minor": 0
}
